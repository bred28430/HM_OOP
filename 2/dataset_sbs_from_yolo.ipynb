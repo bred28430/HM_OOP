{
 "cells": [
  {
   "cell_type": "code",
   "execution_count": 1,
   "metadata": {},
   "outputs": [],
   "source": [
    "images_f = open('images_tmp.txt', 'r')\n",
    "bboxes_f = open('bbox.txt', 'r')\n",
    "\n"
   ]
  },
  {
   "cell_type": "code",
   "execution_count": 2,
   "metadata": {
    "tags": [
     "outputPrepend",
     "outputPrepend",
     "outputPrepend",
     "outputPrepend",
     "outputPrepend",
     "outputPrepend",
     "outputPrepend",
     "outputPrepend",
     "outputPrepend",
     "outputPrepend",
     "outputPrepend",
     "outputPrepend",
     "outputPrepend",
     "outputPrepend",
     "outputPrepend",
     "outputPrepend",
     "outputPrepend",
     "outputPrepend"
    ]
   },
   "outputs": [
    {
     "output_type": "stream",
     "name": "stdout",
     "text": "4000\n8000\n12000\n16000\n20000\n24000\n28000\n32000\n36000\n40000\n44000\n48000\n52000\n56000\n60000\n64000\n68000\n72000\n76000\n80000\n84000\n88000\n"
    }
   ],
   "source": [
    "from matplotlib import pyplot as plt\n",
    "import numpy as np\n",
    "import cv2\n",
    "import random\n",
    "\n",
    "classes = list()\n",
    "images = list()\n",
    "annotation = list()\n",
    "img_id = 1\n",
    "annotation_id = 1\n",
    "for pic in images_f:\n",
    "    _, _, _, breed, name = pic.rstrip(\"\\n\").split('/')\n",
    "    if classes.count(breed) == 0:\n",
    "         classes.append(breed)\n",
    "    bbox = bboxes_f.readline()\n",
    "    cats = list()\n",
    "    while bbox != '\\n':\n",
    "        if len(bbox) == 0:\n",
    "            break\n",
    "        if(bbox[:3] == 'cat'):\n",
    "            obj, left, bot, right, top = bbox.split()\n",
    "            left = int(left)\n",
    "            bot = int(bot)\n",
    "            right = int(right)\n",
    "            top = int(top)\n",
    "            cats.append([left, top, right-left, bot-top])\n",
    "        bbox = bboxes_f.readline()\n",
    "    if len(cats) != 0:\n",
    "        img = cv2.imread(\"/mnt/p/datasets/cat-breeds-dataset/cat-breeds-dataset/images/\"+breed+\"/\"+name)\n",
    "        # if img == None:\n",
    "        #     print(\"/mnt/p/datasets/cat-breeds-dataset/cat-breeds-dataset/images/\"+breed+\"/\"+name)\n",
    "        #     continue\n",
    "        images.append({\n",
    "            \"id\": img_id,\n",
    "            \"width\": img.shape[1],\n",
    "            \"height\": img.shape[0],\n",
    "            \"file_name\": name\n",
    "        })\n",
    "        for cat in cats:\n",
    "            annotation.append({\n",
    "                \"id\": annotation_id,\n",
    "                \"image_id\": img_id,\n",
    "                \"category_id\": classes.index(breed),\n",
    "                \"area\": float(cat[2]*cat[3]),\n",
    "                \"bbox\": cat,\n",
    "                \"iscrowd\": 0\n",
    "            })\n",
    "            # cv2.rectangle(img, (cat[0], cat[1]), (cat[0]+cat[2], cat[1]+cat[3]), (0, 0, 250), thickness = 1)\n",
    "            annotation_id += 1\n",
    "            if annotation_id % 4000 == 0:\n",
    "                print(annotation_id)\n",
    "\n",
    "        # img2 = img[:,:,::-1]\n",
    "        # plt.figure()\n",
    "        # plt.imshow(img2)\n",
    "        img_id += 1\n"
   ]
  },
  {
   "cell_type": "code",
   "execution_count": 11,
   "metadata": {},
   "outputs": [
    {
     "output_type": "stream",
     "name": "stdout",
     "text": "[{'id': 0, 'name': 'Norwegian Forest Cat'}, {'id': 1, 'name': 'Abyssinian'}, {'id': 2, 'name': 'Cymric'}, {'id': 3, 'name': 'Maine Coon'}, {'id': 4, 'name': 'Japanese Bobtail'}, {'id': 5, 'name': 'Calico'}, {'id': 6, 'name': 'Bombay'}, {'id': 7, 'name': 'Cornish Rex'}, {'id': 8, 'name': 'Burmese'}, {'id': 9, 'name': 'Applehead Siamese'}, {'id': 10, 'name': 'Pixiebob'}, {'id': 11, 'name': 'Tortoiseshell'}, {'id': 12, 'name': 'Ragamuffin'}, {'id': 13, 'name': 'Singapura'}, {'id': 14, 'name': 'Chartreux'}, {'id': 15, 'name': 'Bengal'}, {'id': 16, 'name': 'Chinchilla'}, {'id': 17, 'name': 'Exotic Shorthair'}, {'id': 18, 'name': 'American Shorthair'}, {'id': 19, 'name': 'Tonkinese'}, {'id': 20, 'name': 'Munchkin'}, {'id': 21, 'name': 'Nebelung'}, {'id': 22, 'name': 'American Curl'}, {'id': 23, 'name': 'Himalayan'}, {'id': 24, 'name': 'Tabby'}, {'id': 25, 'name': 'Egyptian Mau'}, {'id': 26, 'name': 'Selkirk Rex'}, {'id': 27, 'name': 'Snowshoe'}, {'id': 28, 'name': 'Silver'}, {'id': 29, 'name': 'York Chocolate'}, {'id': 30, 'name': 'Domestic Short Hair'}, {'id': 31, 'name': 'Korat'}, {'id': 32, 'name': 'Scottish Fold'}, {'id': 33, 'name': 'Turkish Angora'}, {'id': 34, 'name': 'Siberian'}, {'id': 35, 'name': 'Oriental Short Hair'}, {'id': 36, 'name': 'Chausie'}, {'id': 37, 'name': 'British Shorthair'}, {'id': 38, 'name': 'Siamese'}, {'id': 39, 'name': 'Tiger'}, {'id': 40, 'name': 'Ragdoll'}, {'id': 41, 'name': 'Somali'}, {'id': 42, 'name': 'Devon Rex'}, {'id': 43, 'name': 'Oriental Tabby'}, {'id': 44, 'name': 'Persian'}, {'id': 45, 'name': 'Extra-Toes Cat - Hemingway Polydactyl'}, {'id': 46, 'name': 'Torbie'}, {'id': 47, 'name': 'Ocicat'}, {'id': 48, 'name': 'American Wirehair'}, {'id': 49, 'name': 'Burmilla'}, {'id': 50, 'name': 'Russian Blue'}, {'id': 51, 'name': 'Javanese'}, {'id': 52, 'name': 'American Bobtail'}, {'id': 53, 'name': 'Oriental Long Hair'}, {'id': 54, 'name': 'Tuxedo'}, {'id': 55, 'name': 'Birman'}, {'id': 56, 'name': 'Dilute Calico'}, {'id': 57, 'name': 'LaPerm'}, {'id': 58, 'name': 'Sphynx - Hairless Cat'}, {'id': 59, 'name': 'Turkish Van'}, {'id': 60, 'name': 'Balinese'}, {'id': 61, 'name': 'Manx'}, {'id': 62, 'name': 'Canadian Hairless'}, {'id': 63, 'name': 'Havana'}, {'id': 64, 'name': 'Domestic Long Hair'}, {'id': 65, 'name': 'Domestic Medium Hair'}, {'id': 66, 'name': 'Dilute Tortoiseshell'}] 67\n"
    }
   ],
   "source": [
    "categories = [{\"id\":i, \"name\":classes[i]} for i in range(len(classes))]\n",
    "print(categories, len(categories))"
   ]
  },
  {
   "cell_type": "code",
   "execution_count": 1,
   "metadata": {},
   "outputs": [
    {
     "output_type": "error",
     "ename": "SyntaxError",
     "evalue": "invalid syntax (<ipython-input-1-265ceddf5f1b>, line 1)",
     "traceback": [
      "\u001b[0;36m  File \u001b[0;32m\"<ipython-input-1-265ceddf5f1b>\"\u001b[0;36m, line \u001b[0;32m1\u001b[0m\n\u001b[0;31m    a = {'instances': Instances(num_instances=1, image_height=732, image_width=1024, fields=[pred_boxes: Boxes(tensor([[ 95.2794,  43.1579, 876.6971, 670.0311]], device='cuda:0')), scores: tensor([0.5402], device='cuda:0'), pred_classes: tensor([40], device='cuda:0')])}\u001b[0m\n\u001b[0m                                                                                                       ^\u001b[0m\n\u001b[0;31mSyntaxError\u001b[0m\u001b[0;31m:\u001b[0m invalid syntax\n"
     ]
    }
   ],
   "source": [
    "a = {'instances': Instances(num_instances=1, image_height=732, image_width=1024, fields=[pred_boxes: Boxes(tensor([[ 95.2794,  43.1579, 876.6971, 670.0311]], device='cuda:0')), scores: tensor([0.5402], device='cuda:0'), pred_classes: tensor([40], device='cuda:0')])}"
   ]
  },
  {
   "cell_type": "code",
   "execution_count": 10,
   "metadata": {},
   "outputs": [],
   "source": [
    "ann = {\n",
    "    \"images\": images,\n",
    "    \"annotations\": annotation,\n",
    "    \"categories\": categories,\n",
    "    \"licenses\": []\n",
    "}\n",
    "\n",
    "import json\n",
    "\n",
    "with open(\"cats_breeds.json\", \"w+\") as a:\n",
    "    a.write(json.dumps(ann))"
   ]
  }
 ],
 "metadata": {
  "language_info": {
   "name": "python",
   "codemirror_mode": {
    "name": "ipython",
    "version": 3
   },
   "version": "3.7.7-final"
  },
  "orig_nbformat": 2,
  "file_extension": ".py",
  "mimetype": "text/x-python",
  "name": "python",
  "npconvert_exporter": "python",
  "pygments_lexer": "ipython3",
  "version": 3,
  "kernelspec": {
   "name": "python-cv-workspace",
   "display_name": "python-cv-workspace"
  }
 },
 "nbformat": 4,
 "nbformat_minor": 2
}