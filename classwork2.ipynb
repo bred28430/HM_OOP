{
 "cells": [
  {
   "cell_type": "code",
   "execution_count": 8,
   "metadata": {},
   "outputs": [
    {
     "name": "stdout",
     "output_type": "stream",
     "text": [
      "[1, 4, 4, 0, 4, 1, 4]\n"
     ]
    }
   ],
   "source": [
    "#упражнение 1\n",
    "from random import randint\n",
    "array = [randint(0, 10) for i in range(20)]\n",
    "print([i for i in array if i<5])"
   ]
  },
  {
   "cell_type": "code",
   "execution_count": 21,
   "metadata": {},
   "outputs": [
    {
     "name": "stdout",
     "output_type": "stream",
     "text": [
      "[16, 17, 12, 15]\n"
     ]
    }
   ],
   "source": [
    "#упражнение 2\n",
    "list1 = [randint(0, 20) for i in range(10)]\n",
    "list2 = [randint(0, 20) for i in range(10)]\n",
    "list_common = list(set([i for i in list2 if i in list1]))\n",
    "print(list_common)\n",
    "#одинаковые один раз учитываю"
   ]
  },
  {
   "cell_type": "code",
   "execution_count": 22,
   "metadata": {},
   "outputs": [],
   "source": [
    "#не понял задание в упражнение 3"
   ]
  },
  {
   "cell_type": "code",
   "execution_count": 35,
   "metadata": {},
   "outputs": [
    {
     "name": "stdout",
     "output_type": "stream",
     "text": [
      "True\n"
     ]
    }
   ],
   "source": [
    "#упражнение 4\n",
    "def palindrom(string) :\n",
    "    return string == string[:len(string)//2] + ''.join(reversed(list(string[:len(string)//2]))) if len(string)%2==0 else string == string[:len(string)//2] + string[len(string)//2] + ''.join(reversed(list(string[:len(string)//2])))\n",
    "print(palindrom('фывапролджэждлорпавыф'))"
   ]
  },
  {
   "cell_type": "code",
   "execution_count": null,
   "metadata": {},
   "outputs": [],
   "source": []
  }
 ],
 "metadata": {
  "kernelspec": {
   "display_name": "Python 3",
   "language": "python",
   "name": "python3"
  },
  "language_info": {
   "codemirror_mode": {
    "name": "ipython",
    "version": 3
   },
   "file_extension": ".py",
   "mimetype": "text/x-python",
   "name": "python",
   "nbconvert_exporter": "python",
   "pygments_lexer": "ipython3",
   "version": "3.6.7"
  }
 },
 "nbformat": 4,
 "nbformat_minor": 2
}
